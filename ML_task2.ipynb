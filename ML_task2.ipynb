{
  "nbformat": 4,
  "nbformat_minor": 0,
  "metadata": {
    "colab": {
      "provenance": []
    },
    "kernelspec": {
      "name": "python3",
      "display_name": "Python 3"
    },
    "language_info": {
      "name": "python"
    }
  },
  "cells": [
    {
      "cell_type": "markdown",
      "source": [],
      "metadata": {
        "id": "ZJ7LTWAOlPvd"
      }
    },
    {
      "cell_type": "markdown",
      "source": [
        "Содержание работы\n",
        "\n",
        "1. (1 балл) Загрузите предложенный вам датасет с помощью функции `sklearn.datasets.fetch_openml`. Выведите текстовое описание загруженного датасета. Обозначьте целевую переменную за `y`, а остальные данные за `X`.\n",
        "2. (1 балл) Выведите основную статистическую информацию о данных. Сделайте количественное описание датасета: число строк (объектов), число столбцов (признаков), статистику по признакам, количество классов (значений целевой переменной).\n",
        "3. (1 балл) Убедитесь, что данные пригодны для моделирования. В данных не должно быть пропущенных значений, ве признаки должны быть численными. Если эти условия нарушаются, исправьте это.\n",
        "4. (2 балла) Обучите модель логистической регрессии на рассматриваемых данных из библиотеки `sklearn`. Рассчитайте метрики accuracy и выведите таблицу классификации.\n",
        "5. (2 балла) Обучите полиномиальную модель классификации. Рассчитайте метрики accuracy и выведите таблицу классификации. Попробуйте разные степени полинома и выберите ту, которая работает лучше.\n",
        "6. (2 балла) Обучите модель классификации по методу опорных векторов. Рассчитайте метрики accuracy и выведите таблицу классификации. Попробуйте разные ядерные функции и выберите ту, которая работает лучше.\n",
        "7. (1 балл) Обучите модель классификации Перцептрон. Рассчитайте метрики accuracy и выведите таблицу классификации.\n",
        "8. (2 балла) Выведите итоговую таблицу сравнения всех моделей. В таблице должна быть информация о эффективности и времени обучения каждой модели. Сделайте вывод о применимости и эффективности моделей для классификации объектов в данной задаче.\n",
        "\n"
      ],
      "metadata": {
        "id": "hMwBhcuiw_Pu"
      }
    },
    {
      "cell_type": "markdown",
      "source": [
        "Задача 1."
      ],
      "metadata": {
        "id": "XCVKvPL4lSbi"
      }
    },
    {
      "cell_type": "code",
      "execution_count": null,
      "metadata": {
        "colab": {
          "base_uri": "https://localhost:8080/",
          "height": 53
        },
        "id": "MQ16bFdplHLF",
        "outputId": "24abf1e8-a05a-454e-ecee-fa52f22cde75"
      },
      "outputs": [
        {
          "output_type": "execute_result",
          "data": {
            "text/plain": [
              "'Outliers data set extracted from the Illustration (Fig. 3) in &quot;Novelty detection with application to data\\nstreams&quot;\\n\\nDownloaded from openml.org.'"
            ],
            "application/vnd.google.colaboratory.intrinsic+json": {
              "type": "string"
            }
          },
          "metadata": {},
          "execution_count": 44
        }
      ],
      "source": [
        "# Импорт необходимых библиотек\n",
        "from sklearn.datasets import fetch_openml\n",
        "from sklearn.model_selection import train_test_split\n",
        "from sklearn.linear_model import LogisticRegression\n",
        "from sklearn.preprocessing import PolynomialFeatures\n",
        "from sklearn.svm import SVC\n",
        "from sklearn.neural_network import MLPClassifier\n",
        "from sklearn.metrics import accuracy_score, classification_report\n",
        "import time\n",
        "import pandas as pd\n",
        "import numpy as np\n",
        "\n",
        "# Загрузка датасета\n",
        "dataset = fetch_openml(name=\"olindda_outliers\", as_frame = True, parser = \"pandas\")\n",
        "dataset.DESCR"
      ]
    },
    {
      "cell_type": "code",
      "source": [
        "X, y = dataset.data, dataset.target\n",
        "print(X)\n",
        "print(\"------------------\")\n",
        "print(y)"
      ],
      "metadata": {
        "colab": {
          "base_uri": "https://localhost:8080/"
        },
        "id": "sXtMzzURl6Mg",
        "outputId": "b36792f6-4616-4278-c2b4-2c9ceda24b8a"
      },
      "execution_count": null,
      "outputs": [
        {
          "output_type": "stream",
          "name": "stdout",
          "text": [
            "          x_0        x_1\n",
            "0   82.136441 -74.928833\n",
            "1   61.100717 -67.410193\n",
            "2   36.683335 -68.236317\n",
            "3   66.985287 -77.428261\n",
            "4   79.611189 -68.236317\n",
            "..        ...        ...\n",
            "70  35.848913 -59.891553\n",
            "71  93.203077 -35.661977\n",
            "72  44.390298 -33.097975\n",
            "73  40.174572 -21.385194\n",
            "74  80.445611 -72.408348\n",
            "\n",
            "[75 rows x 2 columns]\n",
            "------------------\n",
            "0       normal\n",
            "1       normal\n",
            "2       normal\n",
            "3       normal\n",
            "4       normal\n",
            "        ...   \n",
            "70      normal\n",
            "71    novelty2\n",
            "72    novelty1\n",
            "73    novelty1\n",
            "74      normal\n",
            "Name: label, Length: 75, dtype: category\n",
            "Categories (4, object): ['normal', 'novelty1', 'novelty2', 'outlier']\n"
          ]
        }
      ]
    },
    {
      "cell_type": "markdown",
      "source": [
        "Задача 2."
      ],
      "metadata": {
        "id": "jvNYZHbvnUPA"
      }
    },
    {
      "cell_type": "code",
      "source": [
        "# Основная статистическая информация о данных\n",
        "data_info = pd.DataFrame({\n",
        "    'Number of Instances': [X.shape[0]],\n",
        "    'Number of Features': [X.shape[1]],\n",
        "    'Number of Classes': len(set(y)),\n",
        "    'Missing Values': X.isnull().sum().sum(),\n",
        "})\n",
        "print(\"\\nData Information:\")\n",
        "data_info"
      ],
      "metadata": {
        "colab": {
          "base_uri": "https://localhost:8080/",
          "height": 116
        },
        "id": "7SO91Y5km-KU",
        "outputId": "9b3f7027-0430-4ff7-f520-6cb7bf0f7ef9"
      },
      "execution_count": null,
      "outputs": [
        {
          "output_type": "stream",
          "name": "stdout",
          "text": [
            "\n",
            "Data Information:\n"
          ]
        },
        {
          "output_type": "execute_result",
          "data": {
            "text/plain": [
              "   Number of Instances  Number of Features  Number of Classes  Missing Values\n",
              "0                   75                   2                  4               0"
            ],
            "text/html": [
              "\n",
              "  <div id=\"df-f6fca1b1-88a7-42a3-8589-ec88aa181cd2\" class=\"colab-df-container\">\n",
              "    <div>\n",
              "<style scoped>\n",
              "    .dataframe tbody tr th:only-of-type {\n",
              "        vertical-align: middle;\n",
              "    }\n",
              "\n",
              "    .dataframe tbody tr th {\n",
              "        vertical-align: top;\n",
              "    }\n",
              "\n",
              "    .dataframe thead th {\n",
              "        text-align: right;\n",
              "    }\n",
              "</style>\n",
              "<table border=\"1\" class=\"dataframe\">\n",
              "  <thead>\n",
              "    <tr style=\"text-align: right;\">\n",
              "      <th></th>\n",
              "      <th>Number of Instances</th>\n",
              "      <th>Number of Features</th>\n",
              "      <th>Number of Classes</th>\n",
              "      <th>Missing Values</th>\n",
              "    </tr>\n",
              "  </thead>\n",
              "  <tbody>\n",
              "    <tr>\n",
              "      <th>0</th>\n",
              "      <td>75</td>\n",
              "      <td>2</td>\n",
              "      <td>4</td>\n",
              "      <td>0</td>\n",
              "    </tr>\n",
              "  </tbody>\n",
              "</table>\n",
              "</div>\n",
              "    <div class=\"colab-df-buttons\">\n",
              "\n",
              "  <div class=\"colab-df-container\">\n",
              "    <button class=\"colab-df-convert\" onclick=\"convertToInteractive('df-f6fca1b1-88a7-42a3-8589-ec88aa181cd2')\"\n",
              "            title=\"Convert this dataframe to an interactive table.\"\n",
              "            style=\"display:none;\">\n",
              "\n",
              "  <svg xmlns=\"http://www.w3.org/2000/svg\" height=\"24px\" viewBox=\"0 -960 960 960\">\n",
              "    <path d=\"M120-120v-720h720v720H120Zm60-500h600v-160H180v160Zm220 220h160v-160H400v160Zm0 220h160v-160H400v160ZM180-400h160v-160H180v160Zm440 0h160v-160H620v160ZM180-180h160v-160H180v160Zm440 0h160v-160H620v160Z\"/>\n",
              "  </svg>\n",
              "    </button>\n",
              "\n",
              "  <style>\n",
              "    .colab-df-container {\n",
              "      display:flex;\n",
              "      gap: 12px;\n",
              "    }\n",
              "\n",
              "    .colab-df-convert {\n",
              "      background-color: #E8F0FE;\n",
              "      border: none;\n",
              "      border-radius: 50%;\n",
              "      cursor: pointer;\n",
              "      display: none;\n",
              "      fill: #1967D2;\n",
              "      height: 32px;\n",
              "      padding: 0 0 0 0;\n",
              "      width: 32px;\n",
              "    }\n",
              "\n",
              "    .colab-df-convert:hover {\n",
              "      background-color: #E2EBFA;\n",
              "      box-shadow: 0px 1px 2px rgba(60, 64, 67, 0.3), 0px 1px 3px 1px rgba(60, 64, 67, 0.15);\n",
              "      fill: #174EA6;\n",
              "    }\n",
              "\n",
              "    .colab-df-buttons div {\n",
              "      margin-bottom: 4px;\n",
              "    }\n",
              "\n",
              "    [theme=dark] .colab-df-convert {\n",
              "      background-color: #3B4455;\n",
              "      fill: #D2E3FC;\n",
              "    }\n",
              "\n",
              "    [theme=dark] .colab-df-convert:hover {\n",
              "      background-color: #434B5C;\n",
              "      box-shadow: 0px 1px 3px 1px rgba(0, 0, 0, 0.15);\n",
              "      filter: drop-shadow(0px 1px 2px rgba(0, 0, 0, 0.3));\n",
              "      fill: #FFFFFF;\n",
              "    }\n",
              "  </style>\n",
              "\n",
              "    <script>\n",
              "      const buttonEl =\n",
              "        document.querySelector('#df-f6fca1b1-88a7-42a3-8589-ec88aa181cd2 button.colab-df-convert');\n",
              "      buttonEl.style.display =\n",
              "        google.colab.kernel.accessAllowed ? 'block' : 'none';\n",
              "\n",
              "      async function convertToInteractive(key) {\n",
              "        const element = document.querySelector('#df-f6fca1b1-88a7-42a3-8589-ec88aa181cd2');\n",
              "        const dataTable =\n",
              "          await google.colab.kernel.invokeFunction('convertToInteractive',\n",
              "                                                    [key], {});\n",
              "        if (!dataTable) return;\n",
              "\n",
              "        const docLinkHtml = 'Like what you see? Visit the ' +\n",
              "          '<a target=\"_blank\" href=https://colab.research.google.com/notebooks/data_table.ipynb>data table notebook</a>'\n",
              "          + ' to learn more about interactive tables.';\n",
              "        element.innerHTML = '';\n",
              "        dataTable['output_type'] = 'display_data';\n",
              "        await google.colab.output.renderOutput(dataTable, element);\n",
              "        const docLink = document.createElement('div');\n",
              "        docLink.innerHTML = docLinkHtml;\n",
              "        element.appendChild(docLink);\n",
              "      }\n",
              "    </script>\n",
              "  </div>\n",
              "\n",
              "    </div>\n",
              "  </div>\n"
            ]
          },
          "metadata": {},
          "execution_count": 46
        }
      ]
    },
    {
      "cell_type": "code",
      "source": [
        "# Выведим количество строк и столбцов\n",
        "num_rows, num_col = X.shape\n",
        "print(f\"Число строк (объектов): {num_rows}\")\n",
        "print(f\"Число столбцов (признаков): {num_col}\")\n",
        "\n",
        "# Выведим статистику по признакам\n",
        "print(\"Статистика по признакам:\")\n",
        "print(X.describe())\n",
        "\n",
        "# Количество классов (значений целевой переменной)\n",
        "num_class = y.nunique()\n",
        "print(f\"Количество классов (значений целевой переменной):{num_class}\")"
      ],
      "metadata": {
        "colab": {
          "base_uri": "https://localhost:8080/"
        },
        "id": "1SBrooHZnRz8",
        "outputId": "b4d64fcc-045e-4e16-f239-a5de20d7f2b1"
      },
      "execution_count": null,
      "outputs": [
        {
          "output_type": "stream",
          "name": "stdout",
          "text": [
            "Число строк (объектов): 75\n",
            "Число столбцов (признаков): 2\n",
            "Статистика по признакам:\n",
            "              x_0        x_1\n",
            "count   75.000000  75.000000\n",
            "mean    65.620992 -49.747495\n",
            "std     21.684487  22.435307\n",
            "min     29.239499 -92.335341\n",
            "25%     44.741727 -70.745923\n",
            "50%     63.735546 -49.721525\n",
            "75%     84.716481 -28.990868\n",
            "max    104.972930 -15.474583\n",
            "Количество классов (значений целевой переменной):4\n"
          ]
        }
      ]
    },
    {
      "cell_type": "code",
      "source": [
        "# Выведем тип данных каждого признака\n",
        "print(\"Тип данных по признакам:\")\n",
        "print(X.dtypes)"
      ],
      "metadata": {
        "colab": {
          "base_uri": "https://localhost:8080/"
        },
        "id": "n2DhIWfvnESG",
        "outputId": "f6871550-291b-475d-c531-8ffaa65d1610"
      },
      "execution_count": null,
      "outputs": [
        {
          "output_type": "stream",
          "name": "stdout",
          "text": [
            "Тип данных по признакам:\n",
            "x_0    float64\n",
            "x_1    float64\n",
            "dtype: object\n"
          ]
        }
      ]
    },
    {
      "cell_type": "markdown",
      "source": [
        "Задача 3."
      ],
      "metadata": {
        "id": "cFiV4925nYg6"
      }
    },
    {
      "cell_type": "code",
      "source": [
        "from sklearn.preprocessing import LabelEncoder, OneHotEncoder"
      ],
      "metadata": {
        "id": "Jxon8rdinvGZ"
      },
      "execution_count": null,
      "outputs": []
    },
    {
      "cell_type": "code",
      "source": [
        "# Проверим, являются ли все признаки числовыми\n",
        "non_numeric_columns = X.select_dtypes(exclude=['number']).columns\n",
        "if not non_numeric_columns.empty:\n",
        "    print(\"\\nНечисловые колонки:\")\n",
        "    print(non_numeric_columns)\n",
        "    # Если есть нечисловые колонки, изменим следующим образом:\n",
        "    # Преобразование категориального признака с использованием LabelEncoder\n",
        "    for i in non_numeric_columns:\n",
        "      label_encoder = LabelEncoder()\n",
        "      X[f'{i}'] = label_encoder.fit_transform(X[f'{i}'])\n",
        "    print(\"\\nДатасет после изменения нечисловых колонок:\")\n",
        "    print(X)\n",
        "else:\n",
        "    print(\"\\nВсе признаки числовые.\")"
      ],
      "metadata": {
        "colab": {
          "base_uri": "https://localhost:8080/"
        },
        "id": "zB--Z4k004ww",
        "outputId": "8c4eae29-1447-4bb0-d2af-55526a851f08"
      },
      "execution_count": null,
      "outputs": [
        {
          "output_type": "stream",
          "name": "stdout",
          "text": [
            "\n",
            "Все признаки числовые.\n"
          ]
        }
      ]
    },
    {
      "cell_type": "code",
      "source": [
        "# Проверка и обработка пропущенных значений\n",
        "if X.isnull().any().any():\n",
        "    X.fillna(X.mean(), inplace=True)\n",
        "\n",
        "#Преобразование строковых данных в числовые в целевой переменной\n",
        "label_encoder = LabelEncoder()\n",
        "y = label_encoder.fit_transform(y)\n",
        "type(y)"
      ],
      "metadata": {
        "colab": {
          "base_uri": "https://localhost:8080/"
        },
        "id": "fDPPRcQSn-rr",
        "outputId": "8ae71cc1-df16-4ec0-d8e5-64499a07f75b"
      },
      "execution_count": null,
      "outputs": [
        {
          "output_type": "execute_result",
          "data": {
            "text/plain": [
              "numpy.ndarray"
            ]
          },
          "metadata": {},
          "execution_count": 51
        }
      ]
    },
    {
      "cell_type": "code",
      "source": [
        "X_n = X.to_numpy()"
      ],
      "metadata": {
        "id": "WAZGXHRfpj1Z"
      },
      "execution_count": null,
      "outputs": []
    },
    {
      "cell_type": "code",
      "source": [
        "y"
      ],
      "metadata": {
        "colab": {
          "base_uri": "https://localhost:8080/"
        },
        "id": "qDU6wMb9qRyS",
        "outputId": "0de4cd54-81a7-4682-fa32-1f09183e211f"
      },
      "execution_count": null,
      "outputs": [
        {
          "output_type": "execute_result",
          "data": {
            "text/plain": [
              "array([0, 0, 0, 0, 0, 0, 2, 3, 0, 0, 1, 0, 0, 3, 3, 2, 3, 2, 1, 0, 1, 1,\n",
              "       0, 2, 2, 2, 1, 2, 3, 0, 3, 0, 1, 3, 3, 1, 2, 2, 2, 0, 2, 0, 0, 2,\n",
              "       1, 2, 3, 0, 3, 0, 0, 3, 0, 2, 0, 0, 3, 2, 0, 1, 0, 3, 0, 0, 3, 2,\n",
              "       2, 3, 0, 1, 0, 2, 1, 1, 0])"
            ]
          },
          "metadata": {},
          "execution_count": 53
        }
      ]
    },
    {
      "cell_type": "markdown",
      "source": [
        "Задача 4."
      ],
      "metadata": {
        "id": "tNIZxuJOoxtG"
      }
    },
    {
      "cell_type": "code",
      "source": [
        "import numpy as np\n",
        "import pandas as pd\n",
        "import matplotlib.pyplot as plt"
      ],
      "metadata": {
        "id": "ypZWV4sWo2y9"
      },
      "execution_count": null,
      "outputs": []
    },
    {
      "cell_type": "code",
      "source": [
        "plt.scatter(X_n[:, 0][y==0], X_n[:, 1][y==0], marker=\"o\", c='r', s=100)\n",
        "plt.scatter(X_n[:, 0][y==1], X_n[:, 1][y==1], marker=\"x\", c='b', s=100)\n",
        "plt.scatter(X_n[:, 0][y==2], X_n[:, 1][y==2], marker=\"o\", c='g', s=100)\n",
        "plt.scatter(X_n[:, 0][y==3], X_n[:, 1][y==3], marker=\"x\", c='black', s=100)\n",
        "plt.show()"
      ],
      "metadata": {
        "colab": {
          "base_uri": "https://localhost:8080/",
          "height": 430
        },
        "id": "HrVicA_FpNZI",
        "outputId": "56ba9952-998b-4618-b85c-fcd739120a36"
      },
      "execution_count": null,
      "outputs": [
        {
          "output_type": "display_data",
          "data": {
            "text/plain": [
              "<Figure size 640x480 with 1 Axes>"
            ],
            "image/png": "[encoded data removed]"
          },
          "metadata": {}
        }
      ]
    },
    {
      "cell_type": "code",
      "source": [
        "from sklearn.linear_model import LogisticRegression\n",
        "\n",
        "X.head()"
      ],
      "metadata": {
        "id": "2WH6DEUSuyhk",
        "colab": {
          "base_uri": "https://localhost:8080/",
          "height": 206
        },
        "outputId": "7e2c2e68-48d8-48f0-fc22-cdba897f11e5"
      },
      "execution_count": null,
      "outputs": [
        {
          "output_type": "execute_result",
          "data": {
            "text/plain": [
              "         x_0        x_1\n",
              "0  82.136441 -74.928833\n",
              "1  61.100717 -67.410193\n",
              "2  36.683335 -68.236317\n",
              "3  66.985287 -77.428261\n",
              "4  79.611189 -68.236317"
            ],
            "text/html": [
              "\n",
              "  <div id=\"df-823b1c73-e390-4440-b420-3f345d2e113b\" class=\"colab-df-container\">\n",
              "    <div>\n",
              "<style scoped>\n",
              "    .dataframe tbody tr th:only-of-type {\n",
              "        vertical-align: middle;\n",
              "    }\n",
              "\n",
              "    .dataframe tbody tr th {\n",
              "        vertical-align: top;\n",
              "    }\n",
              "\n",
              "    .dataframe thead th {\n",
              "        text-align: right;\n",
              "    }\n",
              "</style>\n",
              "<table border=\"1\" class=\"dataframe\">\n",
              "  <thead>\n",
              "    <tr style=\"text-align: right;\">\n",
              "      <th></th>\n",
              "      <th>x_0</th>\n",
              "      <th>x_1</th>\n",
              "    </tr>\n",
              "  </thead>\n",
              "  <tbody>\n",
              "    <tr>\n",
              "      <th>0</th>\n",
              "      <td>82.136441</td>\n",
              "      <td>-74.928833</td>\n",
              "    </tr>\n",
              "    <tr>\n",
              "      <th>1</th>\n",
              "      <td>61.100717</td>\n",
              "      <td>-67.410193</td>\n",
              "    </tr>\n",
              "    <tr>\n",
              "      <th>2</th>\n",
              "      <td>36.683335</td>\n",
              "      <td>-68.236317</td>\n",
              "    </tr>\n",
              "    <tr>\n",
              "      <th>3</th>\n",
              "      <td>66.985287</td>\n",
              "      <td>-77.428261</td>\n",
              "    </tr>\n",
              "    <tr>\n",
              "      <th>4</th>\n",
              "      <td>79.611189</td>\n",
              "      <td>-68.236317</td>\n",
              "    </tr>\n",
              "  </tbody>\n",
              "</table>\n",
              "</div>\n",
              "    <div class=\"colab-df-buttons\">\n",
              "\n",
              "  <div class=\"colab-df-container\">\n",
              "    <button class=\"colab-df-convert\" onclick=\"convertToInteractive('df-823b1c73-e390-4440-b420-3f345d2e113b')\"\n",
              "            title=\"Convert this dataframe to an interactive table.\"\n",
              "            style=\"display:none;\">\n",
              "\n",
              "  <svg xmlns=\"http://www.w3.org/2000/svg\" height=\"24px\" viewBox=\"0 -960 960 960\">\n",
              "    <path d=\"M120-120v-720h720v720H120Zm60-500h600v-160H180v160Zm220 220h160v-160H400v160Zm0 220h160v-160H400v160ZM180-400h160v-160H180v160Zm440 0h160v-160H620v160ZM180-180h160v-160H180v160Zm440 0h160v-160H620v160Z\"/>\n",
              "  </svg>\n",
              "    </button>\n",
              "\n",
              "  <style>\n",
              "    .colab-df-container {\n",
              "      display:flex;\n",
              "      gap: 12px;\n",
              "    }\n",
              "\n",
              "    .colab-df-convert {\n",
              "      background-color: #E8F0FE;\n",
              "      border: none;\n",
              "      border-radius: 50%;\n",
              "      cursor: pointer;\n",
              "      display: none;\n",
              "      fill: #1967D2;\n",
              "      height: 32px;\n",
              "      padding: 0 0 0 0;\n",
              "      width: 32px;\n",
              "    }\n",
              "\n",
              "    .colab-df-convert:hover {\n",
              "      background-color: #E2EBFA;\n",
              "      box-shadow: 0px 1px 2px rgba(60, 64, 67, 0.3), 0px 1px 3px 1px rgba(60, 64, 67, 0.15);\n",
              "      fill: #174EA6;\n",
              "    }\n",
              "\n",
              "    .colab-df-buttons div {\n",
              "      margin-bottom: 4px;\n",
              "    }\n",
              "\n",
              "    [theme=dark] .colab-df-convert {\n",
              "      background-color: #3B4455;\n",
              "      fill: #D2E3FC;\n",
              "    }\n",
              "\n",
              "    [theme=dark] .colab-df-convert:hover {\n",
              "      background-color: #434B5C;\n",
              "      box-shadow: 0px 1px 3px 1px rgba(0, 0, 0, 0.15);\n",
              "      filter: drop-shadow(0px 1px 2px rgba(0, 0, 0, 0.3));\n",
              "      fill: #FFFFFF;\n",
              "    }\n",
              "  </style>\n",
              "\n",
              "    <script>\n",
              "      const buttonEl =\n",
              "        document.querySelector('#df-823b1c73-e390-4440-b420-3f345d2e113b button.colab-df-convert');\n",
              "      buttonEl.style.display =\n",
              "        google.colab.kernel.accessAllowed ? 'block' : 'none';\n",
              "\n",
              "      async function convertToInteractive(key) {\n",
              "        const element = document.querySelector('#df-823b1c73-e390-4440-b420-3f345d2e113b');\n",
              "        const dataTable =\n",
              "          await google.colab.kernel.invokeFunction('convertToInteractive',\n",
              "                                                    [key], {});\n",
              "        if (!dataTable) return;\n",
              "\n",
              "        const docLinkHtml = 'Like what you see? Visit the ' +\n",
              "          '<a target=\"_blank\" href=https://colab.research.google.com/notebooks/data_table.ipynb>data table notebook</a>'\n",
              "          + ' to learn more about interactive tables.';\n",
              "        element.innerHTML = '';\n",
              "        dataTable['output_type'] = 'display_data';\n",
              "        await google.colab.output.renderOutput(dataTable, element);\n",
              "        const docLink = document.createElement('div');\n",
              "        docLink.innerHTML = docLinkHtml;\n",
              "        element.appendChild(docLink);\n",
              "      }\n",
              "    </script>\n",
              "  </div>\n",
              "\n",
              "\n",
              "<div id=\"df-3e4d8229-9bc5-4292-9e7f-94435760473f\">\n",
              "  <button class=\"colab-df-quickchart\" onclick=\"quickchart('df-3e4d8229-9bc5-4292-9e7f-94435760473f')\"\n",
              "            title=\"Suggest charts\"\n",
              "            style=\"display:none;\">\n",
              "\n",
              "<svg xmlns=\"http://www.w3.org/2000/svg\" height=\"24px\"viewBox=\"0 0 24 24\"\n",
              "     width=\"24px\">\n",
              "    <g>\n",
              "        <path d=\"M19 3H5c-1.1 0-2 .9-2 2v14c0 1.1.9 2 2 2h14c1.1 0 2-.9 2-2V5c0-1.1-.9-2-2-2zM9 17H7v-7h2v7zm4 0h-2V7h2v10zm4 0h-2v-4h2v4z\"/>\n",
              "    </g>\n",
              "</svg>\n",
              "  </button>\n",
              "\n",
              "<style>\n",
              "  .colab-df-quickchart {\n",
              "      --bg-color: #E8F0FE;\n",
              "      --fill-color: #1967D2;\n",
              "      --hover-bg-color: #E2EBFA;\n",
              "      --hover-fill-color: #174EA6;\n",
              "      --disabled-fill-color: #AAA;\n",
              "      --disabled-bg-color: #DDD;\n",
              "  }\n",
              "\n",
              "  [theme=dark] .colab-df-quickchart {\n",
              "      --bg-color: #3B4455;\n",
              "      --fill-color: #D2E3FC;\n",
              "      --hover-bg-color: #434B5C;\n",
              "      --hover-fill-color: #FFFFFF;\n",
              "      --disabled-bg-color: #3B4455;\n",
              "      --disabled-fill-color: #666;\n",
              "  }\n",
              "\n",
              "  .colab-df-quickchart {\n",
              "    background-color: var(--bg-color);\n",
              "    border: none;\n",
              "    border-radius: 50%;\n",
              "    cursor: pointer;\n",
              "    display: none;\n",
              "    fill: var(--fill-color);\n",
              "    height: 32px;\n",
              "    padding: 0;\n",
              "    width: 32px;\n",
              "  }\n",
              "\n",
              "  .colab-df-quickchart:hover {\n",
              "    background-color: var(--hover-bg-color);\n",
              "    box-shadow: 0 1px 2px rgba(60, 64, 67, 0.3), 0 1px 3px 1px rgba(60, 64, 67, 0.15);\n",
              "    fill: var(--button-hover-fill-color);\n",
              "  }\n",
              "\n",
              "  .colab-df-quickchart-complete:disabled,\n",
              "  .colab-df-quickchart-complete:disabled:hover {\n",
              "    background-color: var(--disabled-bg-color);\n",
              "    fill: var(--disabled-fill-color);\n",
              "    box-shadow: none;\n",
              "  }\n",
              "\n",
              "  .colab-df-spinner {\n",
              "    border: 2px solid var(--fill-color);\n",
              "    border-color: transparent;\n",
              "    border-bottom-color: var(--fill-color);\n",
              "    animation:\n",
              "      spin 1s steps(1) infinite;\n",
              "  }\n",
              "\n",
              "  @keyframes spin {\n",
              "    0% {\n",
              "      border-color: transparent;\n",
              "      border-bottom-color: var(--fill-color);\n",
              "      border-left-color: var(--fill-color);\n",
              "    }\n",
              "    20% {\n",
              "      border-color: transparent;\n",
              "      border-left-color: var(--fill-color);\n",
              "      border-top-color: var(--fill-color);\n",
              "    }\n",
              "    30% {\n",
              "      border-color: transparent;\n",
              "      border-left-color: var(--fill-color);\n",
              "      border-top-color: var(--fill-color);\n",
              "      border-right-color: var(--fill-color);\n",
              "    }\n",
              "    40% {\n",
              "      border-color: transparent;\n",
              "      border-right-color: var(--fill-color);\n",
              "      border-top-color: var(--fill-color);\n",
              "    }\n",
              "    60% {\n",
              "      border-color: transparent;\n",
              "      border-right-color: var(--fill-color);\n",
              "    }\n",
              "    80% {\n",
              "      border-color: transparent;\n",
              "      border-right-color: var(--fill-color);\n",
              "      border-bottom-color: var(--fill-color);\n",
              "    }\n",
              "    90% {\n",
              "      border-color: transparent;\n",
              "      border-bottom-color: var(--fill-color);\n",
              "    }\n",
              "  }\n",
              "</style>\n",
              "\n",
              "  <script>\n",
              "    async function quickchart(key) {\n",
              "      const quickchartButtonEl =\n",
              "        document.querySelector('#' + key + ' button');\n",
              "      quickchartButtonEl.disabled = true;  // To prevent multiple clicks.\n",
              "      quickchartButtonEl.classList.add('colab-df-spinner');\n",
              "      try {\n",
              "        const charts = await google.colab.kernel.invokeFunction(\n",
              "            'suggestCharts', [key], {});\n",
              "      } catch (error) {\n",
              "        console.error('Error during call to suggestCharts:', error);\n",
              "      }\n",
              "      quickchartButtonEl.classList.remove('colab-df-spinner');\n",
              "      quickchartButtonEl.classList.add('colab-df-quickchart-complete');\n",
              "    }\n",
              "    (() => {\n",
              "      let quickchartButtonEl =\n",
              "        document.querySelector('#df-3e4d8229-9bc5-4292-9e7f-94435760473f button');\n",
              "      quickchartButtonEl.style.display =\n",
              "        google.colab.kernel.accessAllowed ? 'block' : 'none';\n",
              "    })();\n",
              "  </script>\n",
              "</div>\n",
              "    </div>\n",
              "  </div>\n"
            ]
          },
          "metadata": {},
          "execution_count": 57
        }
      ]
    },
    {
      "cell_type": "code",
      "source": [
        "from sklearn import metrics"
      ],
      "metadata": {
        "id": "CMKQPCLVs_pc"
      },
      "execution_count": null,
      "outputs": []
    },
    {
      "cell_type": "code",
      "source": [
        "#обучение логистической регресии\n",
        "logistic = LogisticRegression().fit(X, y)\n",
        "xx, yy = np.meshgrid(\n",
        "    np.arange(X.min()[0], X.max()[0]+0.1, 0.1),\n",
        "    np.arange(X.min()[1], X.max()[1]+0.1, 0.1))\n",
        "XX = np.array(list(zip(xx.ravel(), yy.ravel()))).reshape((-1, 2))\n",
        "\n",
        "Z = logistic.predict(XX).reshape(xx.shape)\n",
        "\n",
        "plt.contourf(xx, yy, Z, alpha=0.4)\n",
        "plt.scatter(X.iloc[:, 0][y==0], X.iloc[:, 1][y==0], marker=\"o\", c='r', s=100)\n",
        "plt.scatter(X.iloc[:, 0][y==1], X.iloc[:, 1][y==1], marker=\"x\", c='b', s=100)\n",
        "plt.scatter(X.iloc[:, 0][y==2], X.iloc[:, 1][y==2], marker=\"o\", c='g', s=100)\n",
        "plt.scatter(X.iloc[:, 0][y==3], X.iloc[:, 1][y==3], marker=\"x\", c='black', s=100)\n"
      ],
      "metadata": {
        "colab": {
          "base_uri": "https://localhost:8080/",
          "height": 646
        },
        "id": "IJ0GaimGrXmS",
        "outputId": "c66609c1-28ab-4a6c-d2ff-7e52d3fa71e6"
      },
      "execution_count": null,
      "outputs": [
        {
          "output_type": "stream",
          "name": "stderr",
          "text": [
            "/usr/local/lib/python3.10/dist-packages/sklearn/linear_model/_logistic.py:458: ConvergenceWarning: lbfgs failed to converge (status=1):\n",
            "STOP: TOTAL NO. of ITERATIONS REACHED LIMIT.\n",
            "\n",
            "Increase the number of iterations (max_iter) or scale the data as shown in:\n",
            "    https://scikit-learn.org/stable/modules/preprocessing.html\n",
            "Please also refer to the documentation for alternative solver options:\n",
            "    https://scikit-learn.org/stable/modules/linear_model.html#logistic-regression\n",
            "  n_iter_i = _check_optimize_result(\n",
            "/usr/local/lib/python3.10/dist-packages/sklearn/base.py:439: UserWarning: X does not have valid feature names, but LogisticRegression was fitted with feature names\n",
            "  warnings.warn(\n"
          ]
        },
        {
          "output_type": "execute_result",
          "data": {
            "text/plain": [
              "<matplotlib.collections.PathCollection at 0x78efc79b2ad0>"
            ]
          },
          "metadata": {},
          "execution_count": 98
        },
        {
          "output_type": "display_data",
          "data": {
            "text/plain": [
              "<Figure size 640x480 with 1 Axes>"
            ],
            "image/png": "[encoded data removed]"
          },
          "metadata": {}
        }
      ]
    },
    {
      "cell_type": "code",
      "source": [
        "from sklearn.datasets import fetch_openml\n",
        "from sklearn.linear_model import Perceptron\n",
        "from sklearn.svm import SVC\n",
        "import pandas as pd\n",
        "from sklearn.linear_model import LogisticRegression\n",
        "from sklearn.metrics import accuracy_score, classification_report, confusion_matrix\n",
        "from sklearn.preprocessing import PolynomialFeatures\n",
        "from sklearn.pipeline import make_pipeline\n",
        "import time"
      ],
      "metadata": {
        "id": "_WJvVEqGt1By"
      },
      "execution_count": null,
      "outputs": []
    },
    {
      "cell_type": "code",
      "source": [
        "# Инициализация и обучение модели логистической регрессии другим методом\n",
        "model = LogisticRegression(random_state=42)\n",
        "start_time_logreg = time.time()\n",
        "\n",
        "model.fit(X, y)\n",
        "\n",
        "# Прогнозирование на всем датасете\n",
        "y_pred = model.predict(X)\n",
        "end_time_logreg = time.time()\n",
        "rez1 =end_time_logreg - start_time_logreg\n",
        "# Рассчет метрики accuracy\n",
        "accuracy_logreg = accuracy_score(y, y_pred)\n",
        "print(\"Accuracy:\", accuracy_logreg)\n",
        "\n",
        "# Вывод таблицы классификации\n",
        "classification_rep = classification_report(y, y_pred)\n",
        "print(\"Таблица классификации:\\n\", classification_rep)\n",
        "\n",
        "# Вывод матрицы ошибок (confusion matrix)\n",
        "conf_matrix = confusion_matrix(y, y_pred)\n",
        "print(\"Матрица ошибок:\\n\", conf_matrix)"
      ],
      "metadata": {
        "colab": {
          "base_uri": "https://localhost:8080/"
        },
        "id": "4ICWdWLWshJl",
        "outputId": "e4ab1a33-efc2-45ad-ea6e-72e63751f67a"
      },
      "execution_count": null,
      "outputs": [
        {
          "output_type": "stream",
          "name": "stdout",
          "text": [
            "Accuracy: 0.8533333333333334\n",
            "Таблица классификации:\n",
            "               precision    recall  f1-score   support\n",
            "\n",
            "           0       0.86      1.00      0.92        30\n",
            "           1       0.80      1.00      0.89        12\n",
            "           2       0.86      1.00      0.92        18\n",
            "           3       1.00      0.27      0.42        15\n",
            "\n",
            "    accuracy                           0.85        75\n",
            "   macro avg       0.88      0.82      0.79        75\n",
            "weighted avg       0.88      0.85      0.82        75\n",
            "\n",
            "Матрица ошибок:\n",
            " [[30  0  0  0]\n",
            " [ 0 12  0  0]\n",
            " [ 0  0 18  0]\n",
            " [ 5  3  3  4]]\n"
          ]
        },
        {
          "output_type": "stream",
          "name": "stderr",
          "text": [
            "/usr/local/lib/python3.10/dist-packages/sklearn/linear_model/_logistic.py:458: ConvergenceWarning: lbfgs failed to converge (status=1):\n",
            "STOP: TOTAL NO. of ITERATIONS REACHED LIMIT.\n",
            "\n",
            "Increase the number of iterations (max_iter) or scale the data as shown in:\n",
            "    https://scikit-learn.org/stable/modules/preprocessing.html\n",
            "Please also refer to the documentation for alternative solver options:\n",
            "    https://scikit-learn.org/stable/modules/linear_model.html#logistic-regression\n",
            "  n_iter_i = _check_optimize_result(\n"
          ]
        }
      ]
    },
    {
      "cell_type": "markdown",
      "source": [
        "Таблица классификации предоставляет детальную информацию о производительности модели для каждого класса в задаче многоклассовой классификации. Вот как можно интерпретировать основные метрики, представленные в таблице классификации:\n",
        "\n",
        "Precision (точность): Доля правильно предсказанных положительных классов относительно всех предсказанных положительных классов. Формула: precision = TP / (TP + FP)\n",
        "\n",
        "Recall (полнота): Доля правильно предсказанных положительных классов относительно всех истинных положительных классов. Формула: recall = TP / (TP + FN)\n",
        "\n",
        "F1-score (F-мера): Среднее гармоническое между точностью и полнотой. F1-score стремится к 1, когда и точность, и полнота высоки. Формула: F1 = 2 * (precision * recall) / (precision + recall)\n",
        "\n",
        "Support: Количество истинных меток для каждого класса в тестовом наборе данных."
      ],
      "metadata": {
        "id": "BzTu1TjTAbde"
      }
    },
    {
      "cell_type": "markdown",
      "source": [
        "Интерпретация:\n",
        "\n",
        "Модель показывает хорошие результаты для классов 0, 1 и 2 с высокой точностью и F1-score.\n",
        "Однако для класса 3 recall намного ниже, что может быть вызвано дисбалансом классов или несбалансированным представлением этого класса в данных."
      ],
      "metadata": {
        "id": "5h-2EEhItg4V"
      }
    },
    {
      "cell_type": "markdown",
      "source": [
        "Задача 5."
      ],
      "metadata": {
        "id": "5CH6KGF4v6Fa"
      }
    },
    {
      "cell_type": "code",
      "source": [
        "# Создаем пустую таблицу для записи результатов\n",
        "results_table = pd.DataFrame(columns=['Degree', 'Accuracy', 'Execution Time'])\n",
        "\n",
        "# Определяем диапазон степеней полинома, которые мы хотим проверить\n",
        "degree_range = [1,2,3,5,10]\n",
        "\n",
        "for degree in degree_range:\n",
        "    # Начинаем отсчет времени\n",
        "    start_time = time.time()\n",
        "\n",
        "    # Обучение модели с использованием полиномиальных признаков\n",
        "    poly_model = make_pipeline(PolynomialFeatures(degree), LogisticRegression(max_iter= 10000, random_state=42))\n",
        "    poly_model.fit(X, y)\n",
        "\n",
        "    # Прогнозирование\n",
        "    y_pred_poly = poly_model.predict(X)\n",
        "\n",
        "    # Завершаем отсчет времени\n",
        "    end_time = time.time()\n",
        "\n",
        "\n",
        "    # Рассчет метрики accuracy\n",
        "    accuracy_poly = accuracy_score(y, y_pred_poly)\n",
        "\n",
        "    # Запись результатов в таблицу\n",
        "    results_table = results_table.append({\n",
        "        'Degree': degree,\n",
        "        'Accuracy': accuracy_poly,\n",
        "        'Execution Time': end_time - start_time\n",
        "    }, ignore_index=True)\n",
        "\n",
        "# Выводим результаты\n",
        "print(results_table)"
      ],
      "metadata": {
        "colab": {
          "base_uri": "https://localhost:8080/"
        },
        "id": "RfD1qn81v5pk",
        "outputId": "e10437fe-5585-4cb9-9b69-bc43e167f751"
      },
      "execution_count": null,
      "outputs": [
        {
          "output_type": "stream",
          "name": "stderr",
          "text": [
            "<ipython-input-88-2d1a32ad4542>:26: FutureWarning: The frame.append method is deprecated and will be removed from pandas in a future version. Use pandas.concat instead.\n",
            "  results_table = results_table.append({\n",
            "/usr/local/lib/python3.10/dist-packages/sklearn/linear_model/_logistic.py:458: ConvergenceWarning: lbfgs failed to converge (status=1):\n",
            "STOP: TOTAL NO. of ITERATIONS REACHED LIMIT.\n",
            "\n",
            "Increase the number of iterations (max_iter) or scale the data as shown in:\n",
            "    https://scikit-learn.org/stable/modules/preprocessing.html\n",
            "Please also refer to the documentation for alternative solver options:\n",
            "    https://scikit-learn.org/stable/modules/linear_model.html#logistic-regression\n",
            "  n_iter_i = _check_optimize_result(\n",
            "<ipython-input-88-2d1a32ad4542>:26: FutureWarning: The frame.append method is deprecated and will be removed from pandas in a future version. Use pandas.concat instead.\n",
            "  results_table = results_table.append({\n",
            "<ipython-input-88-2d1a32ad4542>:26: FutureWarning: The frame.append method is deprecated and will be removed from pandas in a future version. Use pandas.concat instead.\n",
            "  results_table = results_table.append({\n"
          ]
        },
        {
          "output_type": "stream",
          "name": "stdout",
          "text": [
            "   Degree  Accuracy  Execution Time\n",
            "0     1.0  0.853333        0.191122\n",
            "1     2.0  0.880000        4.967099\n",
            "2     3.0  0.906667        1.147737\n",
            "3     5.0  0.933333        1.919313\n",
            "4    10.0  0.400000        0.011263\n"
          ]
        },
        {
          "output_type": "stream",
          "name": "stderr",
          "text": [
            "/usr/local/lib/python3.10/dist-packages/sklearn/linear_model/_logistic.py:458: ConvergenceWarning: lbfgs failed to converge (status=1):\n",
            "STOP: TOTAL NO. of ITERATIONS REACHED LIMIT.\n",
            "\n",
            "Increase the number of iterations (max_iter) or scale the data as shown in:\n",
            "    https://scikit-learn.org/stable/modules/preprocessing.html\n",
            "Please also refer to the documentation for alternative solver options:\n",
            "    https://scikit-learn.org/stable/modules/linear_model.html#logistic-regression\n",
            "  n_iter_i = _check_optimize_result(\n",
            "<ipython-input-88-2d1a32ad4542>:26: FutureWarning: The frame.append method is deprecated and will be removed from pandas in a future version. Use pandas.concat instead.\n",
            "  results_table = results_table.append({\n",
            "/usr/local/lib/python3.10/dist-packages/sklearn/linear_model/_logistic.py:458: ConvergenceWarning: lbfgs failed to converge (status=2):\n",
            "ABNORMAL_TERMINATION_IN_LNSRCH.\n",
            "\n",
            "Increase the number of iterations (max_iter) or scale the data as shown in:\n",
            "    https://scikit-learn.org/stable/modules/preprocessing.html\n",
            "Please also refer to the documentation for alternative solver options:\n",
            "    https://scikit-learn.org/stable/modules/linear_model.html#logistic-regression\n",
            "  n_iter_i = _check_optimize_result(\n",
            "<ipython-input-88-2d1a32ad4542>:26: FutureWarning: The frame.append method is deprecated and will be removed from pandas in a future version. Use pandas.concat instead.\n",
            "  results_table = results_table.append({\n"
          ]
        }
      ]
    },
    {
      "cell_type": "code",
      "source": [
        "degree = 3  # Меняем степень полинома на наилучшую, по таблице это 3 степень\n",
        "poly = PolynomialFeatures(degree=degree)\n",
        "X_poly = poly.fit_transform(X)\n",
        "\n",
        "# Обучение модели с использованием полиномиальных признаков\n",
        "poly_model = make_pipeline(PolynomialFeatures(degree), LogisticRegression(random_state=42))\n",
        "start_time_poly = time.time()\n",
        "poly_model.fit(X, y)\n",
        "\n",
        "# Прогнозирование\n",
        "y_pred_poly = poly_model.predict(X)\n",
        "end_time_poly = time.time()\n",
        "rez2 = end_time_poly - start_time_poly\n",
        "# Рассчет метрики accuracy\n",
        "accuracy_poly = accuracy_score(y, y_pred_poly)\n",
        "print(f\"Accuracy для полиномиальной модели (степень {degree}): {accuracy_poly}\")\n",
        "\n",
        "# Вывод таблицы классификации\n",
        "classification_rep_poly = classification_report(y, y_pred_poly)\n",
        "print(\"Таблица классификации для полиномиальной модели:\\n\", classification_rep_poly)\n",
        "\n",
        "# Вывод матрицы ошибок (confusion matrix)\n",
        "conf_matrix_poly = confusion_matrix(y, y_pred_poly)\n",
        "print(\"Матрица ошибок для полиномиальной модели:\\n\", conf_matrix_poly)"
      ],
      "metadata": {
        "colab": {
          "base_uri": "https://localhost:8080/"
        },
        "id": "bI96Tfcewgf5",
        "outputId": "7f26e54d-cefc-4475-9a53-2e54027444d9"
      },
      "execution_count": null,
      "outputs": [
        {
          "output_type": "stream",
          "name": "stdout",
          "text": [
            "Accuracy для полиномиальной модели (степень 3): 0.8266666666666667\n",
            "Таблица классификации для полиномиальной модели:\n",
            "               precision    recall  f1-score   support\n",
            "\n",
            "           0       0.76      0.93      0.84        30\n",
            "           1       1.00      0.75      0.86        12\n",
            "           2       0.94      0.94      0.94        18\n",
            "           3       0.73      0.53      0.62        15\n",
            "\n",
            "    accuracy                           0.83        75\n",
            "   macro avg       0.86      0.79      0.81        75\n",
            "weighted avg       0.83      0.83      0.82        75\n",
            "\n",
            "Матрица ошибок для полиномиальной модели:\n",
            " [[28  0  0  2]\n",
            " [ 3  9  0  0]\n",
            " [ 0  0 17  1]\n",
            " [ 6  0  1  8]]\n"
          ]
        },
        {
          "output_type": "stream",
          "name": "stderr",
          "text": [
            "/usr/local/lib/python3.10/dist-packages/sklearn/linear_model/_logistic.py:458: ConvergenceWarning: lbfgs failed to converge (status=1):\n",
            "STOP: TOTAL NO. of ITERATIONS REACHED LIMIT.\n",
            "\n",
            "Increase the number of iterations (max_iter) or scale the data as shown in:\n",
            "    https://scikit-learn.org/stable/modules/preprocessing.html\n",
            "Please also refer to the documentation for alternative solver options:\n",
            "    https://scikit-learn.org/stable/modules/linear_model.html#logistic-regression\n",
            "  n_iter_i = _check_optimize_result(\n"
          ]
        }
      ]
    },
    {
      "cell_type": "markdown",
      "source": [
        "Для класса 0 модель имеет хорошую точность (0.76) и высокий recall (0.93), что означает, что она хорошо находит и правильно классифицирует большинство элементов этого класса.\n",
        "Класс 1 имеет идеальную точность (1.00), но немного ниже recall (0.75), что может указывать на то, что модель несколько пропускает некоторые элементы этого класса.\n",
        "Класс 2 показывает высокие значения precision, recall и F1-score, что свидетельствует о хорошем качестве модели для этого класса.\n",
        "Класс 3 имеет более низкие значения precision, recall и F1-score, что может указывать на трудности модели в правильном классифицировании элементов этого класса.\n",
        "Взвешенное среднее F1-score составляет 0.82, что может быть интерпретировано как хороший уровень общей производительности модели."
      ],
      "metadata": {
        "id": "urD9Jv0Y16bN"
      }
    },
    {
      "cell_type": "markdown",
      "source": [
        "Задача 6."
      ],
      "metadata": {
        "id": "LwpMDW26w4qL"
      }
    },
    {
      "cell_type": "code",
      "source": [
        "svm_results_table = pd.DataFrame(columns=['Kernel', 'Accuracy'])\n",
        "\n",
        "# Определяем ядра, которые мы хотим проверить\n",
        "kernels = ['linear', 'poly', 'rbf']\n",
        "\n",
        "for kernel in kernels:\n",
        "    # Обучение модели SVM с различными ядрами\n",
        "    svm_model = SVC(kernel=kernel, random_state=42)\n",
        "    svm_model.fit(X, y)\n",
        "\n",
        "    # Прогнозирование\n",
        "    y_pred_svm = svm_model.predict(X)\n",
        "\n",
        "    # Рассчет метрики accuracy\n",
        "    accuracy_svm = accuracy_score(y, y_pred_svm)\n",
        "\n",
        "    # Запись результатов в таблицу\n",
        "    svm_results_table = svm_results_table.append({\n",
        "        'Kernel': kernel,\n",
        "        'Accuracy': accuracy_svm\n",
        "    }, ignore_index=True)\n",
        "\n",
        "# Выводим результаты\n",
        "print(svm_results_table)"
      ],
      "metadata": {
        "colab": {
          "base_uri": "https://localhost:8080/"
        },
        "id": "ycRy9eX7xnV-",
        "outputId": "0d3c1ed4-eeea-4cf0-be19-35dd1e455e42"
      },
      "execution_count": null,
      "outputs": [
        {
          "output_type": "stream",
          "name": "stdout",
          "text": [
            "   Kernel  Accuracy\n",
            "0  linear  0.826667\n",
            "1    poly  0.813333\n",
            "2     rbf  0.800000\n"
          ]
        },
        {
          "output_type": "stream",
          "name": "stderr",
          "text": [
            "<ipython-input-82-1140fc9283f2>:18: FutureWarning: The frame.append method is deprecated and will be removed from pandas in a future version. Use pandas.concat instead.\n",
            "  svm_results_table = svm_results_table.append({\n",
            "<ipython-input-82-1140fc9283f2>:18: FutureWarning: The frame.append method is deprecated and will be removed from pandas in a future version. Use pandas.concat instead.\n",
            "  svm_results_table = svm_results_table.append({\n",
            "<ipython-input-82-1140fc9283f2>:18: FutureWarning: The frame.append method is deprecated and will be removed from pandas in a future version. Use pandas.concat instead.\n",
            "  svm_results_table = svm_results_table.append({\n"
          ]
        }
      ]
    },
    {
      "cell_type": "code",
      "source": [
        "# Выбираем лучшее ядро\n",
        "best_kernel = \"linear\"\n",
        "\n",
        "# Обучение модели SVM с лучшим ядром\n",
        "best_svm_model = SVC(kernel=best_kernel, random_state=42)\n",
        "start_time_svm = time.time()\n",
        "best_svm_model.fit(X, y)\n",
        "\n",
        "# Прогнозирование\n",
        "y_pred_best_svm = best_svm_model.predict(X)\n",
        "end_time_svm = time.time()\n",
        "rez3 = end_time_svm - start_time_svm\n",
        "# Рассчет метрики accuracy\n",
        "accuracy_best_svm = accuracy_score(y, y_pred_best_svm)\n",
        "\n",
        "# Вывод таблицы классификации\n",
        "classification_rep_best_svm = classification_report(y, y_pred_best_svm)\n",
        "print(f\"Таблица классификации для SVM с ядром '{best_kernel}':\\n\", classification_rep_best_svm)\n",
        "\n",
        "# Вывод матрицы ошибок (confusion matrix)\n",
        "conf_matrix_best_svm = confusion_matrix(y, y_pred_best_svm)\n",
        "print(f\"Матрица ошибок для SVM с ядром '{best_kernel}':\\n\", conf_matrix_best_svm)"
      ],
      "metadata": {
        "colab": {
          "base_uri": "https://localhost:8080/"
        },
        "id": "RZYp57ifx0oO",
        "outputId": "9b7f55e8-cfd2-4924-d58e-f0bdee070e01"
      },
      "execution_count": null,
      "outputs": [
        {
          "output_type": "stream",
          "name": "stdout",
          "text": [
            "Таблица классификации для SVM с ядром 'linear':\n",
            "               precision    recall  f1-score   support\n",
            "\n",
            "           0       0.81      1.00      0.90        30\n",
            "           1       0.80      1.00      0.89        12\n",
            "           2       0.86      1.00      0.92        18\n",
            "           3       1.00      0.13      0.24        15\n",
            "\n",
            "    accuracy                           0.83        75\n",
            "   macro avg       0.87      0.78      0.74        75\n",
            "weighted avg       0.86      0.83      0.77        75\n",
            "\n",
            "Матрица ошибок для SVM с ядром 'linear':\n",
            " [[30  0  0  0]\n",
            " [ 0 12  0  0]\n",
            " [ 0  0 18  0]\n",
            " [ 7  3  3  2]]\n"
          ]
        }
      ]
    },
    {
      "cell_type": "markdown",
      "source": [
        "Самая лучшая из ядер это 'linear'. Данный о ней я и вывела. Анализ модели схож с предыдущими."
      ],
      "metadata": {
        "id": "vJtrYeXF2nAw"
      }
    },
    {
      "cell_type": "markdown",
      "source": [
        "Задача 7."
      ],
      "metadata": {
        "id": "ygprjwRaydSw"
      }
    },
    {
      "cell_type": "code",
      "source": [
        "# Обучение модели перцептрона\n",
        "perceptron_model = Perceptron(random_state=42)\n",
        "start_time_perceptron = time.time()\n",
        "perceptron_model.fit(X, y)\n",
        "\n",
        "# Прогнозирование\n",
        "y_pred_perceptron = perceptron_model.predict(X)\n",
        "end_time_perceptron = time.time()\n",
        "rez4 = end_time_perceptron - start_time_perceptron\n",
        "# Рассчет метрики accuracy\n",
        "accuracy_perceptron = accuracy_score(y, y_pred_perceptron)\n",
        "print(\"Accuracy для модели перцептрона:\", accuracy_perceptron)\n",
        "\n",
        "# Вывод таблицы классификации\n",
        "classification_rep_perceptron = classification_report(y, y_pred_perceptron)\n",
        "print(\"Таблица классификации для модели перцептрона:\\n\", classification_rep_perceptron)\n",
        "\n",
        "# Вывод матрицы ошибок (confusion matrix)\n",
        "conf_matrix_perceptron = confusion_matrix(y, y_pred_perceptron)\n",
        "print(\"Матрица ошибок для модели перцептрона:\\n\", conf_matrix_perceptron)"
      ],
      "metadata": {
        "colab": {
          "base_uri": "https://localhost:8080/"
        },
        "id": "Af5uKZcDyfm9",
        "outputId": "584d51f3-5aa5-48b5-c188-4a74fdbb0dfd"
      },
      "execution_count": null,
      "outputs": [
        {
          "output_type": "stream",
          "name": "stdout",
          "text": [
            "Accuracy для модели перцептрона: 0.6266666666666667\n",
            "Таблица классификации для модели перцептрона:\n",
            "               precision    recall  f1-score   support\n",
            "\n",
            "           0       0.56      1.00      0.71        30\n",
            "           1       0.00      0.00      0.00        12\n",
            "           2       0.81      0.94      0.87        18\n",
            "           3       0.00      0.00      0.00        15\n",
            "\n",
            "    accuracy                           0.63        75\n",
            "   macro avg       0.34      0.49      0.40        75\n",
            "weighted avg       0.42      0.63      0.49        75\n",
            "\n",
            "Матрица ошибок для модели перцептрона:\n",
            " [[30  0  0  0]\n",
            " [12  0  0  0]\n",
            " [ 1  0 17  0]\n",
            " [11  0  4  0]]\n"
          ]
        },
        {
          "output_type": "stream",
          "name": "stderr",
          "text": [
            "/usr/local/lib/python3.10/dist-packages/sklearn/metrics/_classification.py:1344: UndefinedMetricWarning: Precision and F-score are ill-defined and being set to 0.0 in labels with no predicted samples. Use `zero_division` parameter to control this behavior.\n",
            "  _warn_prf(average, modifier, msg_start, len(result))\n",
            "/usr/local/lib/python3.10/dist-packages/sklearn/metrics/_classification.py:1344: UndefinedMetricWarning: Precision and F-score are ill-defined and being set to 0.0 in labels with no predicted samples. Use `zero_division` parameter to control this behavior.\n",
            "  _warn_prf(average, modifier, msg_start, len(result))\n",
            "/usr/local/lib/python3.10/dist-packages/sklearn/metrics/_classification.py:1344: UndefinedMetricWarning: Precision and F-score are ill-defined and being set to 0.0 in labels with no predicted samples. Use `zero_division` parameter to control this behavior.\n",
            "  _warn_prf(average, modifier, msg_start, len(result))\n"
          ]
        }
      ]
    },
    {
      "cell_type": "markdown",
      "source": [
        "Анализ модели схож с предыдущими, 3 класс показывает нули, что говорит о его хаотичности и невожможности обьективной оценки."
      ],
      "metadata": {
        "id": "nbRyDChG27KD"
      }
    },
    {
      "cell_type": "markdown",
      "source": [
        "Задача 8."
      ],
      "metadata": {
        "id": "GUPMwe8hyvw1"
      }
    },
    {
      "cell_type": "code",
      "source": [
        "#Итоговая таблица сравнения всех моделей\n",
        "results_df = pd.DataFrame({\n",
        "    'Модель': ['Логистическая регрессия', 'Полиномиальная (степень 3)', 'Модель SVR', 'Модель Перцептрона'],\n",
        "    'Score': [accuracy_logreg, accuracy_poly, accuracy_svm, accuracy_perceptron],\n",
        "    'Время обучения (сек)': [rez1, rez2, rez3, rez4]\n",
        "})\n",
        "\n",
        "print(results_df)"
      ],
      "metadata": {
        "colab": {
          "base_uri": "https://localhost:8080/"
        },
        "id": "T5zdTnfCyyoJ",
        "outputId": "ba2412c6-a9fa-4bdf-aae3-f487e106ddfe"
      },
      "execution_count": null,
      "outputs": [
        {
          "output_type": "stream",
          "name": "stdout",
          "text": [
            "                       Модель     Score  Время обучения (сек)\n",
            "0     Логистическая регрессия  0.853333              0.027535\n",
            "1  Полиномиальная (степень 3)  0.826667              0.051841\n",
            "2                  Модель SVR  0.800000              0.013797\n",
            "3          Модель Перцептрона  0.626667              0.015712\n"
          ]
        }
      ]
    },
    {
      "cell_type": "markdown",
      "source": [
        "Вывод: Логистическая регрессия демонстрирует хорошие результаты как в точности, так и во времени обучения, что делает ее привлекательным выбором.\n",
        "Полиномиальная модель имеет более сложную структуру, и время обучения немного выше.\n",
        "Модель SVM имеет небольшое снижение точности, но при этом время обучения остается низким.\n",
        "Модель Перцептрона показывает наименьшую точность, что может быть связано с ограниченной способностью модели обработки сложных паттернов в данных.\n",
        "Выбор зависит от разных задач, если мы ориентируемся на точность, то это Логистическая модель"
      ],
      "metadata": {
        "id": "K3lpLqJiz_5M"
      }
    }
  ]
}